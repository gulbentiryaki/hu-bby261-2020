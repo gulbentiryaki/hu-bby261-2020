{
  "nbformat": 4,
  "nbformat_minor": 0,
  "metadata": {
    "colab": {
      "name": "proje_01.ipynb",
      "provenance": [],
      "authorship_tag": "ABX9TyNK4t07e1xxQ2DAGCLONSKt",
      "include_colab_link": true
    },
    "kernelspec": {
      "name": "python3",
      "display_name": "Python 3"
    }
  },
  "cells": [
    {
      "cell_type": "markdown",
      "metadata": {
        "id": "view-in-github",
        "colab_type": "text"
      },
      "source": [
        "<a href=\"https://colab.research.google.com/github/gulbentiryaki/hu-bby261-2020/blob/main/proje_01.ipynb\" target=\"_parent\"><img src=\"https://colab.research.google.com/assets/colab-badge.svg\" alt=\"Open In Colab\"/></a>"
      ]
    },
    {
      "cell_type": "code",
      "metadata": {
        "id": "C32_saPc2aru",
        "outputId": "40ac18d5-0dcd-48b6-f697-44fcf2926207",
        "colab": {
          "base_uri": "https://localhost:8080/",
          "height": 85
        }
      },
      "source": [
        "import string\n",
        "\n",
        "tAnim = \"Okçuluk: Kökeni insanoğlunun avcılık günlerine dayanan, oku bir yay aracılığıyla hedefe göndermeyi amaçlayan bir spor dalıdır.\"\n",
        "\n",
        "tAnim = tAnim.lower()\n",
        "print(tAnim[0:128])\n",
        "\n",
        "yenitAnim = \"\"\n",
        "for i in tAnim:\n",
        "  if i not in string.punctuation:\n",
        "    yenitAnim += i\n",
        "print(yenitAnim)    \n",
        "\n",
        "kelime = str(input(\"Aramak istediğiniz kelimeyi giriniz:\"))\n",
        "tanimAra = yenitAnim.split()\n",
        "sOnuc = tanimAra.count(kelime)\n",
        "print(sOnuc)"
      ],
      "execution_count": 24,
      "outputs": [
        {
          "output_type": "stream",
          "text": [
            "okçuluk: kökeni insanoğlunun avcılık günlerine dayanan, oku bir yay aracılığıyla hedefe göndermeyi amaçlayan bir spor dalıdır.\n",
            "okçuluk kökeni insanoğlunun avcılık günlerine dayanan oku bir yay aracılığıyla hedefe göndermeyi amaçlayan bir spor dalıdır\n",
            "Aramak istediğiniz kelimeyi giriniz:okçuluk\n",
            "1\n"
          ],
          "name": "stdout"
        }
      ]
    }
  ]
}