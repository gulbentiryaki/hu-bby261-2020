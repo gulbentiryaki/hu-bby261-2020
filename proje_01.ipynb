{
  "nbformat": 4,
  "nbformat_minor": 0,
  "metadata": {
    "colab": {
      "name": "proje_01.ipynb",
      "provenance": [],
      "authorship_tag": "ABX9TyOn4uHNQb+AZrkWUcwW1oxl",
      "include_colab_link": true
    },
    "kernelspec": {
      "name": "python3",
      "display_name": "Python 3"
    }
  },
  "cells": [
    {
      "cell_type": "markdown",
      "metadata": {
        "id": "view-in-github",
        "colab_type": "text"
      },
      "source": [
        "<a href=\"https://colab.research.google.com/github/gulbentiryaki/hu-bby261-2020/blob/main/proje_01.ipynb\" target=\"_parent\"><img src=\"https://colab.research.google.com/assets/colab-badge.svg\" alt=\"Open In Colab\"/></a>"
      ]
    },
    {
      "cell_type": "code",
      "metadata": {
        "id": "C32_saPc2aru",
        "outputId": "9d3d176d-761b-4a37-db25-5f3d785b34e0",
        "colab": {
          "base_uri": "https://localhost:8080/",
          "height": 68
        }
      },
      "source": [
        "tAnim = \" Okçuluk : Kökeni insanoğlunun avcılık günlerine dayanan , oku bir yay aracılığıyla hedefe göndermeyi amaçlayan bir spor dalıdır .\"\n",
        "\n",
        "tAnim = tAnim.lower()\n",
        "print(tAnim[0:128])\n",
        "\n",
        "kelime = str(input(\"Aramak istediğiniz kelimeyi giriniz:\"))\n",
        "tanimAra = tAnim.split()\n",
        "sOnuc = tanimAra.count(kelime)\n",
        "print(sOnuc)\n",
        "\n"
      ],
      "execution_count": 6,
      "outputs": [
        {
          "output_type": "stream",
          "text": [
            " okçuluk : kökeni insanoğlunun avcılık günlerine dayanan , oku bir yay aracılığıyla hedefe göndermeyi amaçlayan bir spor dalıdır\n",
            "Aramak istediğiniz kelimeyi giriniz:dalıdır\n",
            "1\n"
          ],
          "name": "stdout"
        }
      ]
    }
  ]
}