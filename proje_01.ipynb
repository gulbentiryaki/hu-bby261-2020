{
  "nbformat": 4,
  "nbformat_minor": 0,
  "metadata": {
    "colab": {
      "name": "proje_01.ipynb",
      "provenance": [],
      "authorship_tag": "ABX9TyOHzfiKDoIMurvUmi9XhZUo",
      "include_colab_link": true
    },
    "kernelspec": {
      "name": "python3",
      "display_name": "Python 3"
    }
  },
  "cells": [
    {
      "cell_type": "markdown",
      "metadata": {
        "id": "view-in-github",
        "colab_type": "text"
      },
      "source": [
        "<a href=\"https://colab.research.google.com/github/gulbentiryaki/hu-bby261-2020/blob/main/proje_01.ipynb\" target=\"_parent\"><img src=\"https://colab.research.google.com/assets/colab-badge.svg\" alt=\"Open In Colab\"/></a>"
      ]
    },
    {
      "cell_type": "code",
      "metadata": {
        "id": "C32_saPc2aru",
        "outputId": "c38af23a-86fd-427f-d8d5-9cafa51217ae",
        "colab": {
          "base_uri": "https://localhost:8080/",
          "height": 68
        }
      },
      "source": [
        "tAnim = \" Okçuluk : Kökeni insanoğlunun avcılık günlerine dayanan , oku bir yay aracılığıyla hedefe göndermeyi amaçlayan bir spor dalıdır . \"\n",
        "\n",
        "tAnim = tAnim.lower()\n",
        "print(tAnim[0:126])\n",
        "\n",
        "kelime = str(input(\"Aramak istediğiniz kelimeyi giriniz:\"))\n",
        "tanimAra = tAnim.split()\n",
        "sOnuc = tanimAra.count(kelime)\n",
        "print(sOnuc)\n",
        "\n"
      ],
      "execution_count": null,
      "outputs": [
        {
          "output_type": "stream",
          "text": [
            " okçuluk : kökeni insanoğlunun avcılık günlerine dayanan , oku bir yay aracılığıyla hedefe göndermeyi amaçlayan bir spor dalıd\n",
            "Aramak istediğiniz kelimeyi giriniz:dalıdır\n",
            "1\n"
          ],
          "name": "stdout"
        }
      ]
    }
  ]
}