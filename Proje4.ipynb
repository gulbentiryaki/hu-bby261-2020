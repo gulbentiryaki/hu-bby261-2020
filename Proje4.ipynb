{
  "nbformat": 4,
  "nbformat_minor": 0,
  "metadata": {
    "colab": {
      "name": "Proje4.ipynb",
      "provenance": [],
      "authorship_tag": "ABX9TyNMGuUXfcBzJY6Ouu2Adxov",
      "include_colab_link": true
    },
    "kernelspec": {
      "name": "python3",
      "display_name": "Python 3"
    }
  },
  "cells": [
    {
      "cell_type": "markdown",
      "metadata": {
        "id": "view-in-github",
        "colab_type": "text"
      },
      "source": [
        "<a href=\"https://colab.research.google.com/github/gulbentiryaki/hu-bby261-2020/blob/main/Proje4.ipynb\" target=\"_parent\"><img src=\"https://colab.research.google.com/assets/colab-badge.svg\" alt=\"Open In Colab\"/></a>"
      ]
    },
    {
      "cell_type": "code",
      "metadata": {
        "colab": {
          "base_uri": "https://localhost:8080/"
        },
        "id": "ih_qDZ2yS7oC",
        "outputId": "2b722872-4770-47ed-8fc3-c5b4672ee077"
      },
      "source": [
        "import string\n",
        "from google.colab import drive\n",
        "drive.mount('/gdrive')\n",
        "dosya = \"/gdrive/MyDrive/Colab Notebooks/HU-BBY261-2020/gulben.txt\"\n",
        "dOSya = \"/gdrive/MyDrive/Colab Notebooks/HU-BBY261-2020/şifrel.txt\"\n",
        "\n",
        "tumHarf = string.printable\n",
        "alfabe = [\"ç\", \"ğ\", \"ı\", \"ö\", \"ş\", \"ü\", \"Ç\", \"Ğ\", \"İ\", \"Ö\", \"Ş\", \"Ü\", \"-\", \"\\ufeff\"]\n",
        "\n",
        "print(\"Cümleyi yazdırmak için Y yazınız.\")\n",
        "print(\"Şifreli cümleyi çözmek için Ç yazınız.\")\n",
        "secim=input(\"Yapmak istediğiniz işlemi seçiniz:\")\n",
        "if secim == \"Y\":\n",
        "  f = open(dosya, \"r\")\n",
        "  for line in f.readlines():\n",
        "    print(line)\n",
        "\n",
        "  for jk in tumHarf:\n",
        "    alfabe.append(jk)\n",
        "  cumleSifreli = \"\"\n",
        "  cumle = line\n",
        "  anahtar = int(input(\"Şifreleme anahtarını giriniz: \"))\n",
        "  for i in cumle:  \n",
        "      cumleSifreli += alfabe[(alfabe.index(i)+anahtar) % len(alfabe)]\n",
        "  print(\"Şifreli cümle: \", cumleSifreli)\n",
        "  \n",
        "elif secim == \"Ç\":\n",
        "  f = open(dOSya, 'r')\n",
        "  for line in f.readlines():\n",
        "    print(line)\n",
        "\n",
        "  for jk in tumHarf:\n",
        "    alfabe.append(jk)\n",
        "  SifresizHal = \"\"\n",
        "  cumleSifreli = line\n",
        "  anahtar = int(input(\"Şifreleme anahtarını giriniz: \"))\n",
        "  for i in cumleSifreli:  \n",
        "      SifresizHal += alfabe[(alfabe.index(i)-anahtar) % len(alfabe)]\n",
        "  print(\"Şifresiz Cümle: \"+SifresizHal)"
      ],
      "execution_count": 3,
      "outputs": [
        {
          "output_type": "stream",
          "text": [
            "Drive already mounted at /gdrive; to attempt to forcibly remount, call drive.mount(\"/gdrive\", force_remount=True).\n",
            "Cümleyi yazdırmak için Y yazınız.\n",
            "Şifreli cümleyi çözmek için Ç yazınız.\n",
            "Yapmak istediğiniz işlemi seçiniz:Y\n",
            "COVID-19, farklı kişileri farklı şekillerde etkilemektedir. Enfekte kişilerin çoğu, hafif ila orta düzeyde semptomlar geliştirmekte ve hastaneye kaldırılmadan iyileşmektedir.\n",
            "Şifreleme anahtarını giriniz: 2\n",
            "Şifreli cümle:  EQXKF03b.\n",
            "hctmnş\n",
            "mkÇkngtk\n",
            "hctmnş\n",
            "Çgmknngtfg\n",
            "gvmkngogmvgfkt:\n",
            "Gphgmvg\n",
            "mkÇkngtkp\n",
            "ıqöw.\n",
            "jchkh\n",
            "knc\n",
            "qtvc\n",
            "fĞBgAfg\n",
            "ugorvqonct\n",
            "ignkÇvktogmvg\n",
            "xg\n",
            "jcuvcpgAg\n",
            "mcnfştşnocfcp\n",
            "kAkngÇogmvgfkt:\n"
          ],
          "name": "stdout"
        }
      ]
    }
  ]
}