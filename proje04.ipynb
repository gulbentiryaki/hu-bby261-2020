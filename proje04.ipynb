{
  "nbformat": 4,
  "nbformat_minor": 0,
  "metadata": {
    "colab": {
      "name": "proje04.ipynb",
      "provenance": [],
      "collapsed_sections": [],
      "include_colab_link": true
    },
    "kernelspec": {
      "name": "python3",
      "display_name": "Python 3"
    }
  },
  "cells": [
    {
      "cell_type": "markdown",
      "metadata": {
        "id": "view-in-github",
        "colab_type": "text"
      },
      "source": [
        "<a href=\"https://colab.research.google.com/github/gulbentiryaki/hu-bby261-2020/blob/main/proje04.ipynb\" target=\"_parent\"><img src=\"https://colab.research.google.com/assets/colab-badge.svg\" alt=\"Open In Colab\"/></a>"
      ]
    },
    {
      "cell_type": "code",
      "metadata": {
        "id": "s_3P4GTPVNHw"
      },
      "source": [
        "dosya = open(\"gülben.txt\",\"w\",encoding=\"utf-8\")\n",
        "dosya.write(\"Burası Şifrelenir yazıyı değiştirebilirsin\")\n",
        "dosya.close()"
      ],
      "execution_count": 7,
      "outputs": []
    },
    {
      "cell_type": "code",
      "metadata": {
        "id": "gxQJysseVNns"
      },
      "source": [
        "import string\n",
        "tumAlfabe = string.printable\n",
        "alfabe = [\"ç\", \"ğ\", \"ı\", \"ö\", \"ş\", \"ü\", \"Ç\", \"Ğ\", \"İ\", \"Ö\", \"Ş\", \"Ü\"]\n",
        "for ka in tumAlfabe:\n",
        "  alfabe.append(ka)"
      ],
      "execution_count": 8,
      "outputs": []
    },
    {
      "cell_type": "code",
      "metadata": {
        "id": "mVK8oe0DVNq6",
        "colab": {
          "base_uri": "https://localhost:8080/"
        },
        "outputId": "008a20a1-3f1d-45a9-dc08-73bf257f6f68"
      },
      "source": [
        "dosya1 = open(\"gülben.txt\",\"r\",encoding=\"utf-8\")\n",
        "dosya2= open(\"Şifreli.txt\",\"w\",encoding=\"utf-8\")\n",
        "cumle=\"\"\n",
        "anahtar = int(input(\"Şifrelemek istediğniz Anahtarı Giriniz.\"))\n",
        "for g in dosya1.read():\n",
        "  cumle+=alfabe[(alfabe.index(g)+anahtar)%len(alfabe)]\n",
        "dosya2.write(cumle)\n",
        "dosya2.close()\n"
      ],
      "execution_count": 9,
      "outputs": [
        {
          "output_type": "stream",
          "text": [
            "Şifrelemek istediğniz Anahtarı Giriniz.2\n"
          ],
          "name": "stdout"
        }
      ]
    },
    {
      "cell_type": "code",
      "metadata": {
        "id": "4Q81jmOMVNuF"
      },
      "source": [
        "dosya3=open(\"Şifreli.txt\",encoding=\"utf-8\")\n",
        "sifre = \"\"\n",
        "for gb in dosya3.read():\n",
        "  sifre += alfabe[(alfabe.index(gb)-anahtar)%len(alfabe)]\n"
      ],
      "execution_count": 10,
      "outputs": []
    },
    {
      "cell_type": "code",
      "metadata": {
        "colab": {
          "base_uri": "https://localhost:8080/"
        },
        "id": "9vPbjJ7wXoMg",
        "outputId": "c74f9189-c0c1-43d2-9306-ace217fde144"
      },
      "source": [
        "dosya4 = open(\"Şifreli.txt\",\"r\",encoding=\"utf-8\")\n",
        "metin = dosya4.read()\n",
        "\n",
        "for gbn in range(len(alfabe)):\n",
        "  kirma=\"\"\n",
        "  for glb in metin:\n",
        "    kirma += alfabe[(alfabe.index(glb)+gbn)%len(alfabe)]\n",
        "  print(kirma)"
      ],
      "execution_count": 11,
      "outputs": [
        {
          "output_type": "stream",
          "text": [
            "Dwtcuş\n",
            "0khtgngpkt\n",
            "AcBşAş\n",
            "fgökÇvktgdknktukp\n",
            "Exudvü\r1liuhohqlu\rBdCüBü\rghşlĞwluheloluvlq\n",
            "FyvewÇ\u000b2mjvipirmv\u000bCeDÇCÇ\u000bhiümİxmvifmpmvwmr\n",
            "GzwfxĞ\f3nkwjqjsnw\fDfEĞDĞ\fijÇnÖynwjgnqnwxns\n",
            "HAxgyİç4olxkrktoxçEgFİEİçjkĞoŞzoxkhoroxyot\n",
            "IByhzÖğ5pmylslupyğFhGÖFÖğklİpÜApylipspyzpu\n",
            "JCziAŞı6qnzmtmvqzıGiHŞGŞılmÖq0BqzmjqtqzAqv\n",
            "KDAjBÜö7roAnunwrAöHjIÜHÜömnŞr1CrAnkrurABrw\n",
            "LEBkC0ş8spBovoxsBşIkJ0I0şnoÜs2DsBolsvsBCsx\n",
            "MFClD1ü9tqCpwpytCüJlK1J1üop0t3EtCpmtwtCDty\n",
            "NGDmE2ÇaurDqxqzuDÇKmL2K2Çpq1u4FuDqnuxuDEuz\n",
            "OHEnF3ĞbvsEryrAvEĞLnM3L3Ğqr2v5GvErovyvEFvA\n",
            "PIFoG4İcwtFszsBwFİMoN4M4İrs3w6HwFspwzwFGwB\n",
            "QJGpH5ÖdxuGtAtCxGÖNpO5N5Öst4x7IxGtqxAxGHxC\n",
            "RKHqI6ŞeyvHuBuDyHŞOqP6O6Ştu5y8JyHuryByHIyD\n",
            "SLIrJ7ÜfzwIvCvEzIÜPrQ7P7Üuv6z9KzIvszCzIJzE\n",
            "TMJsK80gAxJwDwFAJ0QsR8Q80vw7AaLAJwtADAJKAF\n",
            "UNKtL91hByKxExGBK1RtS9R91wx8BbMBKxuBEBKLBG\n",
            "VOLuMa2iCzLyFyHCL2SuTaSa2xy9CcNCLyvCFCLMCH\n",
            "WPMvNb3jDAMzGzIDM3TvUbTb3yzaDdODMzwDGDMNDI\n",
            "XQNwOc4kEBNAHAJEN4UwVcUc4zAbEePENAxEHENOEJ\n",
            "YROxPd5lFCOBIBKFO5VxWdVd5ABcFfQFOByFIFOPFK\n",
            "ZSPyQe6mGDPCJCLGP6WyXeWe6BCdGgRGPCzGJGPQGL\n",
            "!TQzRf7nHEQDKDMHQ7XzYfXf7CDeHhSHQDAHKHQRHM\n",
            "\"URASg8oIFRELENIR8YAZgYg8DEfIiTIREBILIRSIN\n",
            "#VSBTh9pJGSFMFOJS9ZB!hZh9EFgJjUJSFCJMJSTJO\n",
            "$WTCUiaqKHTGNGPKTa!C\"i!iaFGhKkVKTGDKNKTUKP\n",
            "%XUDVjbrLIUHOHQLUb\"D#j\"jbGHiLlWLUHELOLUVLQ\n",
            "&YVEWkcsMJVIPIRMVc#E$k#kcHIjMmXMVIFMPMVWMR\n",
            "'ZWFXldtNKWJQJSNWd$F%l$ldIJkNnYNWJGNQNWXNS\n",
            "(!XGYmeuOLXKRKTOXe%G&m%meJKlOoZOXKHOROXYOT\n",
            ")\"YHZnfvPMYLSLUPYf&H'n&nfKLmPp!PYLIPSPYZPU\n",
            "*#ZI!ogwQNZMTMVQZg'I(o'ogLMnQq\"QZMJQTQZ!QV\n",
            "+$!J\"phxRO!NUNWR!h(J)p(phMNoRr#R!NKRUR!\"RW\n",
            ",%\"K#qiySP\"OVOXS\"i)K*q)qiNOpSs$S\"OLSVS\"#SX\n",
            "-&#L$rjzTQ#PWPYT#j*L+r*rjOPqTt%T#PMTWT#$TY\n",
            ".'$M%skAUR$QXQZU$k+M,s+skPQrUu&U$QNUXU$%UZ\n",
            "/(%N&tlBVS%RYR!V%l,N-t,tlQRsVv'V%ROVYV%&V!\n",
            ":)&O'umCWT&SZS\"W&m-O.u-umRStWw(W&SPWZW&'W\"\n",
            ";*'P(vnDXU'T!T#X'n.P/v.vnSTuXx)X'TQX!X'(X#\n",
            "<+(Q)woEYV(U\"U$Y(o/Q:w/woTUvYy*Y(URY\"Y()Y$\n",
            "=,)R*xpFZW)V#V%Z)p:R;x:xpUVwZz+Z)VSZ#Z)*Z%\n",
            ">-*S+yqG!X*W$W&!*q;S<y;yqVWx!A,!*WT!$!*+!&\n",
            "?.+T,zrH\"Y+X%X'\"+r<T=z<zrWXy\"B-\"+XU\"%\"+,\"'\n",
            "@/,U-AsI#Z,Y&Y(#,s=U>A=AsXYz#C.#,YV#&#,-#(\n",
            "[:-V.BtJ$!-Z'Z)$-t>V?B>BtYZA$D/$-ZW$'$-.$)\n",
            "\\;.W/CuK%\".!(!*%.u?W@C?CuZ!B%E:%.!X%(%./%*\n",
            "]</X:DvL&#/\")\"+&/v@X[D@Dv!\"C&F;&/\"Y&)&/:&+\n",
            "^=:Y;EwM'$:#*#,':w[Y\\E[Ew\"#D'G<':#Z'*':;',\n",
            "_>;Z<FxN(%;$+$-(;x\\Z]F\\Fx#$E(H=(;$!(+(;<(-\n",
            "`?<!=GyO)&<%,%.)<y]!^G]Gy$%F)I>)<%\"),)<=).\n",
            "{@=\">HzP*'=&-&/*=z^\"_H^Hz%&G*J?*=&#*-*=>*/\n",
            "|[>#?IAQ+(>'.':+>A_#`I_IA&'H+K@+>'$+.+>?+:\n",
            "}\\?$@JBR,)?(/(;,?B`${J`JB'(I,L[,?(%,/,?@,;\n",
            "~]@%[KCS-*@):)<-@C{%|K{KC()J-M\\-@)&-:-@[-<\n",
            " ^[&\\LDT.+[*;*=.[D|&}L|LD)*K.N].[*'.;.[\\.=\n",
            "\t_\\']MEU/,\\+<+>/\\E}'~M}ME*+L/O^/\\+(/</\\]/>\n",
            "\n",
            "`](^NFV:-],=,?:]F~( N~NF+,M:P_:],):=:]^:?\n",
            "\r{^)_OGW;.^->-@;^G )\tO OG,-N;Q`;^-*;>;^_;@\n",
            "\u000b|_*`PHX</_.?.[<_H\t*\n",
            "P\tPH-.O<R{<_.+<?<_`<[\n",
            "\f}`+{QIY=:`/@/\\=`I\n",
            "+\rQ\n",
            "QI./P=S|=`/,=@=`{=\\\n",
            "ç~{,|RJZ>;{:[:]>{J\r,\u000bR\rRJ/:Q>T}>{:->[>{|>]\n",
            "ğ |-}SK!?<|;\\;^?|K\u000b-\fS\u000bSK:;R?U~?|;.?\\?|}?^\n",
            "ı\t}.~TL\"@=}<]<_@}L\f.çT\fTL;<S@V @}</@]@}~@_\n",
            "ö\n",
            "~/ UM#[>~=^=`[~Mç/ğUçUM<=T[W\t[~=:[^[~ [`\n",
            "ş\r :\tVN$\\? >_>{\\ Nğ:ıVğVN=>U\\X\n",
            "\\ >;\\_\\ \t\\{\n",
            "ü\u000b\t;\n",
            "WO%]@\t?`?|]\tOı;öWıWO>?V]Y\r]\t?<]`]\t\n",
            "]|\n",
            "Ç\f\n",
            "<\rXP&^[\n",
            "@{@}^\n",
            "Pö<şXöXP?@W^Z\u000b^\n",
            "@=^{^\n",
            "\r^}\n",
            "Ğç\r=\u000bYQ'_\\\r[|[~_\rQş=üYşYQ@[X_!\f_\r[>_|_\r\u000b_~\n",
            "İğ\u000b>\fZR(`]\u000b\\}\\ `\u000bRü>ÇZüZR[\\Y`\"ç`\u000b\\?`}`\u000b\f` \n",
            "Öı\f?ç!S){^\f]~]\t{\fSÇ?Ğ!Ç!S\\]Z{#ğ{\f]@{~{\fç{\t\n",
            "Şöç@ğ\"T*|_ç^ ^\n",
            "|çTĞ@İ\"Ğ\"T]^!|$ı|ç^[| |çğ|\n",
            "\n",
            "Üşğ[ı#U+}`ğ_\t_\r}ğUİ[Ö#İ#U^_\"}%ö}ğ_\\}\t}ğı}\r\n",
            "0üı\\ö$V,~{ı`\n",
            "`\u000b~ıVÖ\\Ş$Ö$V_`#~&ş~ı`]~\n",
            "~ıö~\u000b\n",
            "1Çö]ş%W- |ö{\r{\f öWŞ]Ü%Ş%W`{$ 'ü ö{^ \r öş \f\n",
            "2Ğş^ü&X.\t}ş|\u000b|ç\tşXÜ^0&Ü&X{|%\t(Ç\tş|_\t\u000b\tşü\tç\n",
            "3İü_Ç'Y/\n",
            "~ü}\f}ğ\n",
            "üY0_1'0'Y|}&\n",
            ")Ğ\n",
            "ü}`\n",
            "\f\n",
            "üÇ\n",
            "ğ\n",
            "4ÖÇ`Ğ(Z:\r Ç~ç~ı\rÇZ1`2(1(Z}~'\r*İ\rÇ~{\rç\rÇĞ\rı\n",
            "5ŞĞ{İ)!;\u000b\tĞ ğ ö\u000bĞ!2{3)2)!~ (\u000b+Ö\u000bĞ |\u000bğ\u000bĞİ\u000bö\n",
            "6Üİ|Ö*\"<\f\n",
            "İ\tı\tş\fİ\"3|4*3*\" \t)\f,Ş\fİ\t}\fı\fİÖ\fş\n",
            "70Ö}Ş+#=ç\rÖ\n",
            "ö\n",
            "üçÖ#4}5+4+#\t\n",
            "*ç-ÜçÖ\n",
            "~çöçÖŞçü\n",
            "81Ş~Ü,$>ğ\u000bŞ\rş\rÇğŞ$5~6,5,$\n",
            "\r+ğ.0ğŞ\r ğşğŞÜğÇ\n",
            "92Ü 0-%?ı\fÜ\u000bü\u000bĞıÜ%6 7-6-%\r\u000b,ı/1ıÜ\u000b\tıüıÜ0ıĞ\n",
            "a30\t1.&@öç0\fÇ\fİö0&7\t8.7.&\u000b\f-ö:2ö0\f\n",
            "öÇö01öİ\n",
            "b41\n",
            "2/'[şğ1çĞçÖş1'8\n",
            "9/8/'\fç.ş;3ş1ç\rşĞş12şÖ\n",
            "c52\r3:(\\üı2ğİğŞü2(9\ra:9:(çğ/ü<4ü2ğ\u000büİü23üŞ\n",
            "d63\u000b4;)]Çö3ıÖıÜÇ3)a\u000bb;a;)ğı:Ç=5Ç3ı\fÇÖÇ34ÇÜ\n",
            "e74\f5<*^Ğş4öŞö0Ğ4*b\fc<b<*ıö;Ğ>6Ğ4öçĞŞĞ45Ğ0\n",
            "f85ç6=+_İü5şÜş1İ5+cçd=c=+öş<İ?7İ5şğİÜİ56İ1\n",
            "g96ğ7>,`ÖÇ6ü0ü2Ö6,dğe>d>,şü=Ö@8Ö6üıÖ0Ö67Ö2\n",
            "ha7ı8?-{ŞĞ7Ç1Ç3Ş7-eıf?e?-üÇ>Ş[9Ş7ÇöŞ1Ş78Ş3\n",
            "ib8ö9@.|Üİ8Ğ2Ğ4Ü8.fög@f@.ÇĞ?Ü\\aÜ8ĞşÜ2Ü89Ü4\n",
            "jc9şa[/}0Ö9İ3İ509/gşh[g[/Ğİ@0]b09İü0309a05\n",
            "kdaüb\\:~1ŞaÖ4Ö61a:hüi\\h\\:İÖ[1^c1aÖÇ141ab16\n",
            "lebÇc]; 2ÜbŞ5Ş72b;iÇj]i];ÖŞ\\2_d2bŞĞ252bc27\n",
            "mfcĞd^<\t30cÜ6Ü83c<jĞk^j^<ŞÜ]3`e3cÜİ363cd38\n",
            "ngdİe_=\n",
            "41d07094d=kİl_k_=Ü0^4{f4d0Ö474de49\n",
            "oheÖf`>\r52e181a5e>lÖm`l`>01_5|g5e1Ş585ef5a\n",
            "pifŞg{?\u000b63f292b6f?mŞn{m{?12`6}h6f2Ü696fg6b\n",
            "qjgÜh|@\f74g3a3c7g@nÜo|n|@23{7~i7g307a7gh7c\n",
            "rkh0i}[ç85h4b4d8h[o0p}o}[34|8 j8h418b8hi8d\n",
            "sli1j~\\ğ96i5c5e9i\\p1q~p~\\45}9\tk9i529c9ij9e\n",
            "tmj2k ]ıa7j6d6faj]q2r q ]56~a\n",
            "laj63adajkaf\n",
            "unk3l\t^öb8k7e7gbk^r3s\tr\t^67 b\rmbk74bebklbg\n",
            "vol4m\n",
            "_şc9l8f8hcl_s4t\n",
            "s\n",
            "_78\tc\u000bncl85cfclmch\n",
            "wpm5n\r`üdam9g9idm`t5u\rt\r`89\n",
            "d\fodm96dgdmndi\n",
            "xqn6o\u000b{Çebnahajen{u6v\u000bu\u000b{9a\reçpena7ehenoej\n",
            "yro7p\f|Ğfcobibkfo|v7w\fv\f|ab\u000bfğqfob8fifopfk\n",
            "zsp8qç}İgdpcjclgp}w8xçwç}bc\fgırgpc9gjgpqgl\n",
            "Atq9rğ~Öheqdkdmhq~x9yğxğ~cdçhöshqdahkhqrhm\n",
            "Burası Şifrelenir yazıyı değiştirebilirsin\n",
            "Cvsbtö\tÜjgsfmfojs\tzbAözö\tefıjüujsfcjmjstjo\n"
          ],
          "name": "stdout"
        }
      ]
    },
    {
      "cell_type": "code",
      "metadata": {
        "colab": {
          "base_uri": "https://localhost:8080/"
        },
        "id": "nLdzJquCYYZh",
        "outputId": "df71c48e-782c-4e4c-cba5-1c6324760845"
      },
      "source": [
        "while True:\n",
        "  islem = input(\"İşlem Seç: Şifreleme(s),Şifre Çözme(ç),Şifre Kırma(k), Çıkış(q)\")\n",
        "  if islem == \"q\":\n",
        "    break\n",
        "  elif islem==\"s\":\n",
        "    print(\"Şifremiz: \",cumle)\n",
        "  elif islem==\"ç\":\n",
        "    print(\"Cümlemiz: \",sifre)\n",
        "  else:\n",
        "    print(\"Şifrelerimiz \\n\",kirma)"
      ],
      "execution_count": 12,
      "outputs": [
        {
          "output_type": "stream",
          "text": [
            "İşlem Seç: Şifreleme(s),Şifre Çözme(ç),Şifre Kırma(k), Çıkış(q)s\n",
            "Şifremiz:  Dwtcuş\n",
            "0khtgngpkt\n",
            "AcBşAş\n",
            "fgökÇvktgdknktukp\n",
            "İşlem Seç: Şifreleme(s),Şifre Çözme(ç),Şifre Kırma(k), Çıkış(q)ç\n",
            "Cümlemiz:  Burası Şifrelenir yazıyı değiştirebilirsin\n",
            "İşlem Seç: Şifreleme(s),Şifre Çözme(ç),Şifre Kırma(k), Çıkış(q)k\n",
            "Şifrelerimiz \n",
            " Cvsbtö\tÜjgsfmfojs\tzbAözö\tefıjüujsfcjmjstjo\n",
            "İşlem Seç: Şifreleme(s),Şifre Çözme(ç),Şifre Kırma(k), Çıkış(q)q\n"
          ],
          "name": "stdout"
        }
      ]
    }
  ]
}