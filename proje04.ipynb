{
  "nbformat": 4,
  "nbformat_minor": 0,
  "metadata": {
    "colab": {
      "name": "proje04.ipynb",
      "provenance": [],
      "mount_file_id": "1Cc8PGXHxT5T-Httjc9_libVdMQAEpaSd",
      "authorship_tag": "ABX9TyNayvB/HXypcVFNBZ+e1qK/",
      "include_colab_link": true
    },
    "kernelspec": {
      "name": "python3",
      "display_name": "Python 3"
    }
  },
  "cells": [
    {
      "cell_type": "markdown",
      "metadata": {
        "id": "view-in-github",
        "colab_type": "text"
      },
      "source": [
        "<a href=\"https://colab.research.google.com/github/gulbentiryaki/hu-bby261-2020/blob/main/proje04.ipynb\" target=\"_parent\"><img src=\"https://colab.research.google.com/assets/colab-badge.svg\" alt=\"Open In Colab\"/></a>"
      ]
    },
    {
      "cell_type": "code",
      "metadata": {
        "id": "vRIxL6-tI5Cu",
        "colab": {
          "base_uri": "https://localhost:8080/"
        },
        "outputId": "3a99517b-b009-4b67-983a-86bd79c6d93c"
      },
      "source": [
        "import string\n",
        "from google.colab import drive\n",
        "drive.mount('/gdrive')\n",
        "dosya = \"/gdrive/MyDrive/Colab Notebooks/HU-BBY261-2020/gulben.txt\"\n",
        "\n",
        "tumHarf = string.printable\n",
        "alfabe = [\"ç\", \"ğ\", \"ı\", \"ö\", \"ş\", \"ü\", \"Ç\", \"Ğ\", \"İ\", \"Ö\", \"Ş\", \"Ü\", \"-\", \"\\ufeff\"]\n",
        "\n",
        "print(\"Cümleyi yazdırmak için g yazınız.\")\n",
        "print(\"Şifreli cümleyi çözmek için u yazınız.\")\n",
        "secim=input(\"Yapmak istediğiniz işlemi seçiniz:\")\n",
        "if secim == \"g\":\n",
        "  f = open(dosya, \"r\")\n",
        "  for line in f.readlines():\n",
        "    print(line)\n",
        "\n",
        "  for jk in tumHarf:\n",
        "    alfabe.append(jk)\n",
        "  cumleSifreli = \"\"\n",
        "  cumle = input(\"Şifrelenecek cümleyi giriniz: \")\n",
        "  anahtar = int(input(\"Şifreleme anahtarını giriniz: \"))\n",
        "  for i in cumle:  \n",
        "      cumleSifreli += alfabe[(alfabe.index(i)+anahtar) % len(alfabe)]\n",
        "  print(\"Şifreli cümle: \", cumleSifreli)\n",
        "  \n",
        "elif secim == \"u\":\n",
        "  f = open(cumleSifreli, 'w')\n",
        "  f.write(\"test\")\n",
        "\n",
        "  for jk in tumHarf:\n",
        "    alfabe.append(jk)\n",
        "  SifresizHal = \"\"\n",
        "  cumleSifreli = input(\"Şifrelenmiş cümleyi giriniz: \")\n",
        "  anahtar = int(input(\"Şifreleme anahtarını giriniz: \"))\n",
        "  for i in cumleSifreli:  \n",
        "      SifresizHal += alfabe[(alfabe.index(i)-anahtar) % len(alfabe)]\n",
        "  print(\"Şifresiz Cümle: \"+SifresizHal)\n",
        "           \n",
        "\n",
        "\n",
        " \n"
      ],
      "execution_count": 2,
      "outputs": [
        {
          "output_type": "stream",
          "text": [
            "Drive already mounted at /gdrive; to attempt to forcibly remount, call drive.mount(\"/gdrive\", force_remount=True).\n",
            "Cümleyi yazdırmak için g yazınız.\n",
            "Şifreli cümleyi çözmek için u yazınız.\n",
            "Yapmak istediğiniz işlemi seçiniz:g\n",
            "COVID-19, farklı kişileri farklı şekillerde etkilemektedir. Enfekte kişilerin çoğu, hafif ila orta düzeyde semptomlar geliştirmekte ve hastaneye kaldırılmadan iyileşmektedir.\n",
            "Şifrelenecek cümleyi giriniz: COVID-19, farklı kişileri farklı şekillerde etkilemektedir. Enfekte kişilerin çoğu, hafif ila orta düzeyde semptomlar geliştirmekte ve hastaneye kaldırılmadan iyileşmektedir.\n",
            "Şifreleme anahtarını giriniz: 2\n",
            "Şifreli cümle:  EQXKF03b.\n",
            "hctmnş\n",
            "mkÇkngtk\n",
            "hctmnş\n",
            "Çgmknngtfg\n",
            "gvmkngogmvgfkt:\n",
            "Gphgmvg\n",
            "mkÇkngtkp\n",
            "ıqöw.\n",
            "jchkh\n",
            "knc\n",
            "qtvc\n",
            "fĞBgAfg\n",
            "ugorvqonct\n",
            "ignkÇvktogmvg\n",
            "xg\n",
            "jcuvcpgAg\n",
            "mcnfştşnocfcp\n",
            "kAkngÇogmvgfkt:\n"
          ],
          "name": "stdout"
        }
      ]
    }
  ]
}