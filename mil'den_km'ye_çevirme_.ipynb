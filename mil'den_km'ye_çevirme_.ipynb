{
  "nbformat": 4,
  "nbformat_minor": 0,
  "metadata": {
    "colab": {
      "name": "mil'den km'ye çevirme .ipynb",
      "provenance": [],
      "authorship_tag": "ABX9TyOx6f5KsJRRWtWdZnvyxuTR",
      "include_colab_link": true
    },
    "kernelspec": {
      "name": "python3",
      "display_name": "Python 3"
    }
  },
  "cells": [
    {
      "cell_type": "markdown",
      "metadata": {
        "id": "view-in-github",
        "colab_type": "text"
      },
      "source": [
        "<a href=\"https://colab.research.google.com/github/gulbentiryaki/hu-bby261-2020/blob/main/mil'den_km'ye_%C3%A7evirme_.ipynb\" target=\"_parent\"><img src=\"https://colab.research.google.com/assets/colab-badge.svg\" alt=\"Open In Colab\"/></a>"
      ]
    },
    {
      "cell_type": "code",
      "metadata": {
        "id": "Wmj4lv1jTXd-",
        "outputId": "3f69bbf3-14e2-4906-f443-aca71da7a49b",
        "colab": {
          "base_uri": "https://localhost:8080/",
          "height": 449
        }
      },
      "source": [
        "import tensorflow as tf\n",
        "import numpy as np\n",
        "import logging\n",
        "import matplotlib.pyplot as plt\n",
        "logger = tf.get_logger()\n",
        "logger.setLevel(logging.ERROR)\n",
        "\n",
        "mil = np.array([1, 10, 15, 52, 79, 100, 120], dtype= float)\n",
        "km = np.array([1.60, 16.0, 24.14, 85.29, 127.13, 160.93, 193.12], dtype= float)\n",
        "\n",
        "for i,c in enumerate(mil):\n",
        "  print(\"{} mil {} kilometreye eşittir\".format(c, km[i]))\n",
        "\n",
        "l0= tf.keras.layers.Dense(units=1, input_shape=[1])\n",
        "model= tf.keras.Sequential([l0])\n",
        "\n",
        "model.compile(loss='mean_squared_error', optimizer=tf.keras.optimizers.Adam(0.1))\n",
        "  \n",
        "döNgü = int(input(\"Epochs değerini belirleyiniz: \"))\n",
        "history = model.fit(mil, km, epochs=döNgü, verbose=False)\n",
        "\n",
        "\n",
        "plt.xlabel('Epochs') \n",
        "plt.ylabel(\"Loss\")\n",
        "plt.plot(history.history['loss'])\n",
        "\n",
        "tahMin = float(input(\"Mil değerini giriniz: \"))\n",
        "print(\"Tahmin edilen: {} km'dir\".format(model.predict([tahMin])))\n",
        "\n",
        "  \n"
      ],
      "execution_count": 16,
      "outputs": [
        {
          "output_type": "stream",
          "text": [
            "1.0 mil 1.6 kilometreye eşittir\n",
            "10.0 mil 16.0 kilometreye eşittir\n",
            "15.0 mil 24.14 kilometreye eşittir\n",
            "52.0 mil 85.29 kilometreye eşittir\n",
            "79.0 mil 127.13 kilometreye eşittir\n",
            "100.0 mil 160.93 kilometreye eşittir\n",
            "120.0 mil 193.12 kilometreye eşittir\n",
            "Epochs değerini belirleyiniz: 500\n",
            "Mil değerini giriniz: 10\n",
            "Tahmin edilen: [[16.311586]] km'dir\n"
          ],
          "name": "stdout"
        },
        {
          "output_type": "display_data",
          "data": {
            "image/png": "[encoded data removed]",
            "text/plain": [
              "<Figure size 432x288 with 1 Axes>"
            ]
          },
          "metadata": {
            "tags": [],
            "needs_background": "light"
          }
        }
      ]
    }
  ]
}